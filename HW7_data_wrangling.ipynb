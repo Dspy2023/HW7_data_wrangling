{
  "cells": [
    {
      "cell_type": "markdown",
      "metadata": {
        "id": "V-7K0LYgsjfW"
      },
      "source": [
        "## 題目一 (20%)\n",
        "### 題目敘述\n",
        "\n",
        "你正在處理一場技術會議的參與者資料。這些資料分布在兩個不同的系統中：\n",
        "- 註冊系統：記錄了參與者的個人資料及其註冊狀況。\n",
        "- 支付系統：記錄了所有支付交易。\n",
        "\n",
        "你的任務是處理這些數據，為會議的財務團隊和註冊團隊提供他們需要的報告。\n",
        "\n",
        "以下是來自兩個系統的部分數據：\n",
        "\n",
        "```\n",
        "registrations_data = {\n",
        "    'participant_id': [101, 102, 103, 104, 105, 106, 107, 108, 109, 110],\n",
        "    'name': ['Alice', 'Bob', 'Caroline', 'David', 'Eve', 'Frank', 'Grace', 'Heidi', 'Ivan', 'Judy'],\n",
        "    'session_registered': ['Python', 'JavaScript', 'Java', 'Python', 'JavaScript', 'Java', 'Python', 'JavaScript', 'Java', 'Python']\n",
        "}\n",
        "\n",
        "transactions_data = {\n",
        "    'transaction_id': [500, 501, 502, 503, 504, 505, 506, 507, 508, 509],\n",
        "    'participant_id': [101, 105, 106, 107, 103, 108, 109, 110, 111, 112],  \n",
        "    'amount': [100, 100, 100, 100, 100, 100, 100, 100, 100, 100],\n",
        "    'status': ['Success', 'Failed', 'Success', 'Failed', 'Success', 'Failed', 'Success', 'Success', 'Failed', 'Failed']\n",
        "}\n",
        "\n",
        "```\n",
        "\n",
        "- `registrations_data` 包含 participant_id（參與者ID），name（名字）和 session_registered（註冊會議）列。\n",
        "- `transactions_data` 包含 transaction_id（交易ID），participant_id（參與者ID），amount（金額）和 status（交易狀態）列。\n",
        "\n",
        "---\n",
        "\n",
        "### 程式要求\n",
        "- 將 `registrations_data` 和 `transactions_data` 字典轉成兩個dataframe，分別命名為 `registrations` 和 `transactions`。\n",
        "- 創建並展示出以下四種資料的dataframe：\n",
        "  - 既有註冊紀錄又有繳費紀錄的參與者（不論繳費成功與否）\n",
        "  - 所有有註冊紀錄的參與者（包括那些沒有繳費紀錄的）\n",
        "  - 所有有繳費紀錄的參與者（包括那些沒有註冊紀錄的）\n",
        "  - 所有參與者的註冊紀錄和繳費紀錄\n",
        "- 列印一行字串來說明每一個dataFrame代表的資料，然後印出該dataFrame。例如：\n",
        "  ```\n",
        "  print(\"既有註冊紀錄又有繳費紀錄的參與者（不論繳費成功與否）\")\n",
        "  print(df1)\n",
        "  ```\n",
        "\n",
        "\n"
      ]
    },
    {
      "cell_type": "code",
      "execution_count": null,
      "metadata": {
        "colab": {
          "base_uri": "https://localhost:8080/"
        },
        "id": "LMBz1w5z1col",
        "outputId": "7d2723f6-720f-412e-ee4a-956ae8cc2308"
      },
      "outputs": [],
      "source": [
        "print(\"既有註冊紀錄又有繳費紀錄的參與者（不論繳費成功與否）\")\n",
        "print(df1)"
      ]
    },
    {
      "cell_type": "code",
      "execution_count": null,
      "metadata": {
        "colab": {
          "base_uri": "https://localhost:8080/"
        },
        "id": "X3XC_2yc1qqq",
        "outputId": "68209396-e835-43cd-bf59-7e83f4a428e9"
      },
      "outputs": [],
      "source": [
        "print(\"所有有註冊紀錄的參與者（包括那些沒有繳費紀錄的）\")\n",
        "print(df2)"
      ]
    },
    {
      "cell_type": "code",
      "execution_count": null,
      "metadata": {
        "colab": {
          "base_uri": "https://localhost:8080/"
        },
        "id": "QO5NbgrI1xst",
        "outputId": "c39f0200-71c0-451e-bc7b-df6577f7c1df"
      },
      "outputs": [],
      "source": [
        "print(\"所有有繳費紀錄的參與者（包括那些沒有註冊紀錄的）\")\n",
        "print(df3)"
      ]
    },
    {
      "cell_type": "code",
      "execution_count": null,
      "metadata": {
        "colab": {
          "base_uri": "https://localhost:8080/"
        },
        "id": "QV4MNDQ12FfE",
        "outputId": "cb13077c-966e-44f0-b003-e04951e49b21"
      },
      "outputs": [],
      "source": [
        "print(\"所有參與者的註冊紀錄和繳費紀錄\")\n",
        "print(df4)"
      ]
    },
    {
      "cell_type": "markdown",
      "metadata": {
        "id": "GnHIAgsV3zGB"
      },
      "source": [
        "## 題目二 (40%)\n",
        "\n",
        "### 題目敘述\n",
        "\n",
        "這題會用到來自Dcard的資料集，這個資料集包含以下六個欄位：\n",
        "\n",
        "- title: 標題\n",
        "- commentCount: 留言數\n",
        "- likeCount: 按讚數\n",
        "- forumName: 看板名稱\n",
        "- gender: 發文者性別\n",
        "- text: 內文，格式是list of list of list (以字串資料型態呈現)\n",
        "  - 第一層是整篇文章\n",
        "  - 第二層是句子\n",
        "  - 第三層是 `[token, POS tag]`\n",
        "\n",
        "---\n",
        "\n",
        "### 程式要求\n",
        "1. 讀取檔案\n",
        "  - 從 `dcard-500.csv` 檔案中讀取資料，並將其存入 `dcard_df` dataframe。\n",
        "2. 將gender欄位中的數值換成字母\n",
        "  - 將0換成`F`\n",
        "  - 將1換成`M`\n",
        "3. 新增欄位\n",
        "  - 新增一個 reconstructed_text 欄位，用於存放從 text 欄位抓出來的 token，並以空格連接這些 token。\n",
        "  - 新增一個 emojis 欄位，用於存放從 reconstructed_text 欄位中抓出來的表情符號。這些表情符號會連接成一個字符串，表情符號和表情符號之間不包含任何空格。\n",
        "    - 注意：必須排除所有膚色修飾符號（skin-tone modifiers）\n",
        "  - 將更新後的dataframe用 `.head()` 印出來。\n",
        "4. 計算表情符號的使用次數\n",
        "  - 找出使用次數最多的前十個表情符號及其各自的使用次數，存在變數 `top_10_emojis` 中然後印出來。\n",
        "5. 根據不同性別分析表情符號的使用情況\n",
        "  - 建立**兩種**交叉表，並用 `display()` 顯示：\n",
        "    - 交叉表A：橫向比較不同性別對同一表情符號的使用次數\n",
        "      - 性別為索引，表情符號為欄位，使用次數作為值（可以使用 `pd.crosstab` ）。\n",
        "    - 交叉表B：縱向比較不同表情符號在不同性別中的使用次數\n",
        "      - 表情符號為索引，性別為欄位，使用次數作為值。"
      ]
    },
    {
      "cell_type": "markdown",
      "metadata": {
        "id": "Q2Q12J7ZHcAp"
      },
      "source": [
        "## 題目三 (40%)\n",
        "\n",
        "### 題目敘述\n",
        "\n",
        "這題會用到MovieLens網站提供的資料集來進行電影推薦（[資料來源](https://grouplens.org/datasets/movielens/)）。這份資料包含了使用者的評分數據和電影的詳細資料。\n",
        "\n",
        "- `ratings.csv` 檔案包含以下欄位：\n",
        "  - userId：使用者ID\n",
        "  - movieId：電影ID\n",
        "  - rating：使用者給予的評分\n",
        "  - timestamp：時間戳記\n",
        "\n",
        "  > 這個檔案中的橫列首先按 userId 排序，然後在每個使用者內按 movieId 排序。  \n",
        "  > 評分是根據一個五星評分制進行的，可以每半星（0.5星 - 5.0星）增加一次。  \n",
        "  > 時間戳記代表自1970年1月1日協調世界時（UTC）午夜以來的秒數。\n",
        "\n",
        "- `movies.csv` 檔案包含以下欄位：\n",
        "  - movieId：電影ID\n",
        "  - title：片名\n",
        "  - genres：電影類型\n",
        "    - 電影類型是一個以管線符號（`|`）分隔的清單，可以從以下選項中選擇：\n",
        "    > | Action | Adventure | Animation | Children's | Comedy | Crime | Documentary | Drama | Fantasy | Film-Noir | Horror | Musical | Mystery | Romance | Sci-Fi | Thriller | War | Western |\n",
        "\n",
        "---\n",
        "\n",
        "### 程式要求\n",
        "\n",
        "1. 讀取資料\n",
        "  - 從 `movies.csv` 檔案中讀取資料，並建立 `movies` dataframe。\n",
        "  - 從 `ratings.csv` 檔案中讀取資料，並建立 `ratings` dataframe。\n",
        "2. 前處理\n",
        "  - 使用left join合併 `ratings` 和 `movies`，並以movieId為key存到 `ratings_movies` dataframe。\n",
        "  - 印出 `ratings_movies` dataframe前五筆資料。\n",
        "  - 選出 userId 為 2 的使用者，並存進 `user2` dataframe。\n",
        "    - 注意：user2會重複看同一部電影，因此要將重複的電影刪除，只保留最新的紀錄。\n",
        "  - 列印出 `user2` dataframe前十筆資料。\n",
        "3. 推薦電影\n",
        "  - 對 user2 的 `rating` 和 `genres` 進行統計分析\n",
        "    - 注意：一部電影可能包含多個類型，因此要將類型分開並計算每個類型的評分次數。例如 `Action|Adventure` 的rating為2，則 `Action` 和 `Adventure` 都各加2。\n",
        "  - 排除評分次數少於10次的類型，計算剩餘類型的平均評分，依照平均評分由高至低排序，最後存入變數 `user2_ratings` 並列印出來。\n",
        "  - 根據 user2 評分最高的電影類型，從 `ratings_movies` 中印出user2沒看過的前十筆推薦電影，記得避免推薦重複的電影。"
      ]
    }
  ],
  "metadata": {
    "colab": {
      "collapsed_sections": [
        "V-7K0LYgsjfW",
        "GnHIAgsV3zGB"
      ],
      "provenance": []
    },
    "kernelspec": {
      "display_name": "Python 3",
      "name": "python3"
    },
    "language_info": {
      "name": "python"
    }
  },
  "nbformat": 4,
  "nbformat_minor": 0
}
